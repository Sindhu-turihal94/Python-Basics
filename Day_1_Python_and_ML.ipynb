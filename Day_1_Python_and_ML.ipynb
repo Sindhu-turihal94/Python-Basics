{
  "nbformat": 4,
  "nbformat_minor": 0,
  "metadata": {
    "colab": {
      "provenance": []
    },
    "kernelspec": {
      "name": "python3",
      "display_name": "Python 3"
    },
    "language_info": {
      "name": "python"
    }
  },
  "cells": [
    {
      "cell_type": "markdown",
      "source": [
        "Python Syntax & Structure"
      ],
      "metadata": {
        "id": "okJhXAtv6blf"
      }
    },
    {
      "cell_type": "markdown",
      "source": [
        "syntax"
      ],
      "metadata": {
        "id": "BAy3hMH46xAf"
      }
    },
    {
      "cell_type": "code",
      "source": [
        "print(\"Sindhu\") # function call\n",
        "x=5 #variable assignment\n",
        "y=10 #no need to declare type"
      ],
      "metadata": {
        "colab": {
          "base_uri": "https://localhost:8080/"
        },
        "id": "wN5Iz1yD68Qj",
        "outputId": "d3227c67-f212-4880-9c08-212a2042a7a3"
      },
      "execution_count": null,
      "outputs": [
        {
          "output_type": "stream",
          "name": "stdout",
          "text": [
            "Sindhu\n"
          ]
        }
      ]
    },
    {
      "cell_type": "markdown",
      "source": [
        "case-sensitive"
      ],
      "metadata": {
        "id": "yfLyKfA27T-W"
      }
    },
    {
      "cell_type": "code",
      "source": [
        "Name = \"Sindhu\"\n",
        "name = \"Sharan\"\n",
        "print(Name,name)"
      ],
      "metadata": {
        "colab": {
          "base_uri": "https://localhost:8080/"
        },
        "id": "2hzyJMw37YBX",
        "outputId": "ae72aa0b-09ec-4321-b407-0bdf9f24854c"
      },
      "execution_count": null,
      "outputs": [
        {
          "output_type": "stream",
          "name": "stdout",
          "text": [
            "Sindhu Sharan\n"
          ]
        }
      ]
    },
    {
      "cell_type": "markdown",
      "source": [
        "Indentation"
      ],
      "metadata": {
        "id": "lF0zJc1W7p2z"
      }
    },
    {
      "cell_type": "code",
      "source": [
        "if x > 0:\n",
        "  print(\"positive\") # 4 space indentation\n",
        "  print(\"inside the if block\")"
      ],
      "metadata": {
        "colab": {
          "base_uri": "https://localhost:8080/"
        },
        "id": "nkEXQOMQ7s2O",
        "outputId": "577b091a-d485-4e08-9c5f-b2bbd3721467"
      },
      "execution_count": null,
      "outputs": [
        {
          "output_type": "stream",
          "name": "stdout",
          "text": [
            "positive\n",
            "inside the if block\n"
          ]
        }
      ]
    },
    {
      "cell_type": "markdown",
      "source": [
        "Variables & Data Types"
      ],
      "metadata": {
        "id": "x82e1fK68Jj1"
      }
    },
    {
      "cell_type": "markdown",
      "source": [
        "Numeric Types"
      ],
      "metadata": {
        "id": "YsiqCmQt8Sp3"
      }
    },
    {
      "cell_type": "code",
      "source": [
        "age = 20 # int\n",
        "height = 5.6 # float\n",
        "complex_num = 3+4j\n"
      ],
      "metadata": {
        "id": "jR1vXh4V8YFD"
      },
      "execution_count": null,
      "outputs": []
    },
    {
      "cell_type": "markdown",
      "source": [
        "String type"
      ],
      "metadata": {
        "id": "iTf3wBvH8y3r"
      }
    },
    {
      "cell_type": "code",
      "source": [
        "name = \"Sindhu\"\n",
        "message = \"hii\"\n",
        "multiline = \"\"\"This is multiline\n",
        "string\"\"\""
      ],
      "metadata": {
        "id": "aLI4tNyb81rS"
      },
      "execution_count": null,
      "outputs": []
    },
    {
      "cell_type": "markdown",
      "source": [
        "Bollean type"
      ],
      "metadata": {
        "id": "JPcYkW0k9QkL"
      }
    },
    {
      "cell_type": "code",
      "source": [
        "active = True\n",
        "finisehed = False"
      ],
      "metadata": {
        "id": "lS5M5Ldz9WM7"
      },
      "execution_count": null,
      "outputs": []
    },
    {
      "cell_type": "markdown",
      "source": [
        "type checking"
      ],
      "metadata": {
        "id": "rUzaxqSI9eLT"
      }
    },
    {
      "cell_type": "code",
      "source": [
        "print(type(age))\n",
        "print(type(name))\n",
        "print(type(complex_num))"
      ],
      "metadata": {
        "colab": {
          "base_uri": "https://localhost:8080/"
        },
        "id": "-Go3DXwK9h8T",
        "outputId": "b51ad5f3-6180-48f0-dc7d-113a3bc90654"
      },
      "execution_count": null,
      "outputs": [
        {
          "output_type": "stream",
          "name": "stdout",
          "text": [
            "<class 'int'>\n",
            "<class 'str'>\n",
            "<class 'complex'>\n"
          ]
        }
      ]
    },
    {
      "cell_type": "markdown",
      "source": [
        "type conversion"
      ],
      "metadata": {
        "id": "naIXUoVv97Xz"
      }
    },
    {
      "cell_type": "code",
      "source": [
        "str_num = \"123\"\n",
        "int_num = int(str_num)\n",
        "float_num = float(str_num)\n",
        "\n",
        "print(f\"Original:{str_num} (type: {type(str_num)})\")\n",
        "print(f\"Integer:{int_num} (type: {type(int_num)})\")\n",
        "print(f\"float:{float_num} (type: {type(float_num)})\")"
      ],
      "metadata": {
        "colab": {
          "base_uri": "https://localhost:8080/"
        },
        "id": "44yNeYWm99-m",
        "outputId": "e09566f4-c987-459e-a9ae-4e60a2a46999"
      },
      "execution_count": null,
      "outputs": [
        {
          "output_type": "stream",
          "name": "stdout",
          "text": [
            "Original:123 (type:<class 'str'>)\n",
            "Integer:123 (type:<class 'int'>)\n",
            "float:123.0 (type:<class 'float'>)\n"
          ]
        }
      ]
    },
    {
      "cell_type": "markdown",
      "source": [
        "Exercise 1:Personal information"
      ],
      "metadata": {
        "id": "_ovLDP2DJpS7"
      }
    },
    {
      "cell_type": "markdown",
      "source": [
        "Create Variables"
      ],
      "metadata": {
        "id": "rqU8hG9yJwni"
      }
    },
    {
      "cell_type": "code",
      "source": [
        "first_name = \"Sindhu\"\n",
        "last_name = \"Turihal\"\n",
        "age = 21\n",
        "height = 5.6\n",
        "is_student = True\n"
      ],
      "metadata": {
        "colab": {
          "base_uri": "https://localhost:8080/"
        },
        "id": "myOYuHJZJ13D",
        "outputId": "ebf56ace-9c91-4e3d-9425-bb7fd91b7173"
      },
      "execution_count": null,
      "outputs": [
        {
          "output_type": "stream",
          "name": "stdout",
          "text": [
            "Name: Sindhu Turihal\n"
          ]
        }
      ]
    },
    {
      "cell_type": "markdown",
      "source": [
        "Print formatted information"
      ],
      "metadata": {
        "id": "Y1uvooLxKHZX"
      }
    },
    {
      "cell_type": "code",
      "source": [
        "print(f\"Name: {first_name} {last_name}\")\n",
        "print(f\"Age: {age}\")\n",
        "print(f\"Height: {height}feet\")\n",
        "print(f\"Student: {is_student}\")"
      ],
      "metadata": {
        "colab": {
          "base_uri": "https://localhost:8080/"
        },
        "id": "zxAKP85lKNBG",
        "outputId": "a0866f38-d48a-4e72-cec4-787625574241"
      },
      "execution_count": null,
      "outputs": [
        {
          "output_type": "stream",
          "name": "stdout",
          "text": [
            "Name: Sindhu Turihal\n",
            "Age: 21\n",
            "Height: 5.6feet\n",
            "Student: True\n"
          ]
        }
      ]
    },
    {
      "cell_type": "markdown",
      "source": [
        "Type conversion"
      ],
      "metadata": {
        "id": "5MWZC3HXLIgU"
      }
    },
    {
      "cell_type": "code",
      "source": [
        "age_str = str(age)\n",
        "height_int = int(height)\n",
        "print(f\"Age as string: {age_str}\")\n",
        "print(f\"Height as integer: {height_int}\")\n"
      ],
      "metadata": {
        "colab": {
          "base_uri": "https://localhost:8080/"
        },
        "id": "TLIZl-WCLL9j",
        "outputId": "97f91dda-0d30-4a6c-f002-098a05750542"
      },
      "execution_count": null,
      "outputs": [
        {
          "output_type": "stream",
          "name": "stdout",
          "text": [
            "Age as string: 21\n",
            "Height as integer: 5\n"
          ]
        }
      ]
    },
    {
      "cell_type": "markdown",
      "source": [
        "Operators and Basic Operations"
      ],
      "metadata": {
        "id": "kXruDvBKHveG"
      }
    },
    {
      "cell_type": "markdown",
      "source": [
        "Arithmetic Operators"
      ],
      "metadata": {
        "id": "swo2wMoMH65H"
      }
    },
    {
      "cell_type": "code",
      "source": [
        "a =10\n",
        "b =3\n",
        "\n",
        "print(f\"Addition:{a} + {b} = {a+b}\")\n",
        "print(f\"Subtraction:{a} - {b} = {a-b}\")\n",
        "print(f\"Multiplication:{a} * {b} = {a*b}\")\n",
        "print(f\"Division:{a} / {b} = {a/b}\")\n",
        "print(f\"Floor Division:{a} // {b} = {a//b}\")\n",
        "print(f\"Modulus:{a} % {b} ={a%b}\")\n",
        "print(f\"Exponentiation:{a} ** {b} = {a**b}\")"
      ],
      "metadata": {
        "colab": {
          "base_uri": "https://localhost:8080/"
        },
        "collapsed": true,
        "id": "eFWmnZn8H_T6",
        "outputId": "c67bb869-b706-43c3-f6e8-3abdfc944bf6"
      },
      "execution_count": null,
      "outputs": [
        {
          "output_type": "stream",
          "name": "stdout",
          "text": [
            "Addition:10 + 3 = 13\n",
            "Subtraction:10 - 3 = 7\n",
            "Multiplication:10 * 3 = 30\n",
            "Division:10 / 3 = 3.3333333333333335\n",
            "Floor Division:10 // 3 = 3\n",
            "Modulus:10 % 3 =1\n",
            "Exponentiation:10 ** 3 = 1000\n"
          ]
        }
      ]
    },
    {
      "cell_type": "markdown",
      "source": [
        "Order of operations (PEMDAS)"
      ],
      "metadata": {
        "id": "bShqsiW6LoyQ"
      }
    },
    {
      "cell_type": "markdown",
      "source": [
        "\n",
        "*   P - Parentheses\n",
        "*   E - Exponents\n",
        "*   M - Multiplication\n",
        "*   D - Division\n",
        "*  A - Addition\n",
        "*   S - Subtraction\n",
        "\n",
        "\n",
        "\n",
        "\n",
        "\n",
        "\n",
        "\n",
        "\n",
        "\n",
        "\n"
      ],
      "metadata": {
        "id": "Va3OpSCxMRkH"
      }
    },
    {
      "cell_type": "code",
      "source": [
        "result = 2 + 3 * 4 ** 2 - 1\n",
        "print(f\"2 + 3 * 4 ** 2 - 1 = {result}\")\n"
      ],
      "metadata": {
        "colab": {
          "base_uri": "https://localhost:8080/"
        },
        "id": "MoaqItMiM3fj",
        "outputId": "da328e1e-d487-46be-d0fa-9ec1ac2c3647"
      },
      "execution_count": null,
      "outputs": [
        {
          "output_type": "stream",
          "name": "stdout",
          "text": [
            "2 + 3 * 4 ** 2 - 1 = 49\n"
          ]
        }
      ]
    },
    {
      "cell_type": "markdown",
      "source": [
        "Relational Operators (or) Comparison"
      ],
      "metadata": {
        "id": "G__Ohr7MNPZX"
      }
    },
    {
      "cell_type": "code",
      "source": [
        "x = 5\n",
        "y = 10\n",
        "print(f\"{x} == {y}: {x==y}\") # Equal to\n",
        "print(f\"{x} != {y}: {x!=y}\") # Not equal to\n",
        "print(f\"{x} < {y}: {x<y}\") # less than\n",
        "print(f\"{x} > {y}: {x>y}\") # grater than\n",
        "print(f\"{x} <= {y}: {x<=y}\") # less than or equal to\n",
        "print(f\"{x} >= {y}: {x>=y}\") # greater than or equal to"
      ],
      "metadata": {
        "colab": {
          "base_uri": "https://localhost:8080/"
        },
        "id": "qzSno0guNXSc",
        "outputId": "815fb8dd-a513-418f-fcbb-979ee17097cc"
      },
      "execution_count": null,
      "outputs": [
        {
          "output_type": "stream",
          "name": "stdout",
          "text": [
            "5 == 10: False\n",
            "5 != 10: True\n",
            "5 < 10: True\n",
            "5 > 10: False\n",
            "5 <= 10: True\n",
            "5 >= 10: False\n"
          ]
        }
      ]
    },
    {
      "cell_type": "markdown",
      "source": [
        "String comparison"
      ],
      "metadata": {
        "id": "aA3nHfpjOL_z"
      }
    },
    {
      "cell_type": "code",
      "source": [
        "name1 = \"Sindhu\"\n",
        "name2 = \"Turihal\"\n",
        "print(f\"'{name1}' < '{name2}': {name1 < name2}\") # alphabetical order"
      ],
      "metadata": {
        "colab": {
          "base_uri": "https://localhost:8080/"
        },
        "id": "iVkFLrR3OQsj",
        "outputId": "3e6232d1-8039-44cb-8f81-7fc8859e9000"
      },
      "execution_count": null,
      "outputs": [
        {
          "output_type": "stream",
          "name": "stdout",
          "text": [
            "'Sindhu' < 'Turihal': True\n"
          ]
        }
      ]
    },
    {
      "cell_type": "markdown",
      "source": [
        "Logical Operators"
      ],
      "metadata": {
        "id": "KqFBg0yrO4F3"
      }
    },
    {
      "cell_type": "code",
      "source": [
        "p = True\n",
        "q = False\n",
        "\n",
        "print(f\"p and q: {p and q}\") # both True\n",
        "print(f\"p or q: {p or q}\") # at least one true\n",
        "print(f\"not p: {not q}\") # opposite of p"
      ],
      "metadata": {
        "colab": {
          "base_uri": "https://localhost:8080/"
        },
        "id": "wrdZy8W5O9xH",
        "outputId": "cc4bf6e0-0631-4ca3-fb33-95df45cb1bc0"
      },
      "execution_count": null,
      "outputs": [
        {
          "output_type": "stream",
          "name": "stdout",
          "text": [
            "p and q: False\n",
            "p or q: True\n",
            "not p: True\n"
          ]
        }
      ]
    },
    {
      "cell_type": "code",
      "source": [
        "# Practical example\n",
        "age = 20\n",
        "has_license = True\n",
        "can_drive = age >= 18 and has_license\n",
        "print(f\"Can drive: {can_drive}\")"
      ],
      "metadata": {
        "colab": {
          "base_uri": "https://localhost:8080/"
        },
        "id": "5IG2WDVFQIRr",
        "outputId": "07ec4936-9a95-484e-b885-592c3e11e4fc"
      },
      "execution_count": null,
      "outputs": [
        {
          "output_type": "stream",
          "name": "stdout",
          "text": [
            "Can drive: True\n"
          ]
        }
      ]
    },
    {
      "cell_type": "code",
      "source": [
        "# Multiple conditions\n",
        "score = 85\n",
        "is_present = True\n",
        "can_pass = score >= 80 and is_present\n",
        "print(f\"Can pass: {can_pass}\")"
      ],
      "metadata": {
        "colab": {
          "base_uri": "https://localhost:8080/"
        },
        "id": "ep3CJPy5QhRe",
        "outputId": "01b9329f-0ef5-4f7f-e9c7-98cacfd65c37"
      },
      "execution_count": null,
      "outputs": [
        {
          "output_type": "stream",
          "name": "stdout",
          "text": [
            "Can pass: True\n"
          ]
        }
      ]
    },
    {
      "cell_type": "markdown",
      "source": [
        "Hands-on Exercise"
      ],
      "metadata": {
        "id": "UyWc3dbLRA3P"
      }
    },
    {
      "cell_type": "markdown",
      "source": [
        "Exercise 2: Simple Calaculator"
      ],
      "metadata": {
        "id": "eu7AubDrRF1X"
      }
    },
    {
      "cell_type": "code",
      "source": [
        "# Personal information\n",
        "\n",
        "age = 25\n",
        "annual_income = 50000\n",
        "credit_score = 720\n",
        "has_collateral = True"
      ],
      "metadata": {
        "id": "IMW_s16gRPxs"
      },
      "execution_count": null,
      "outputs": []
    },
    {
      "cell_type": "code",
      "source": [
        "# Loan criteria\n",
        "\n",
        "min_age = 18\n",
        "min_income = 30000\n",
        "min_credit_score = 650"
      ],
      "metadata": {
        "id": "iMlMs-XbRnSa"
      },
      "execution_count": null,
      "outputs": []
    },
    {
      "cell_type": "code",
      "source": [
        "# check qulifications\n",
        "age_qualified = age >= min_age\n",
        "income_qualified = annual_income >= min_income\n",
        "credit_qualified = credit_score >= min_credit_score\n",
        "overall_qualified = age_qualified and income_qualified and credit_qualified\n"
      ],
      "metadata": {
        "collapsed": true,
        "id": "q4sMeIfVfOyt"
      },
      "execution_count": null,
      "outputs": []
    },
    {
      "cell_type": "code",
      "source": [
        "\n",
        "print(\"=== Loan Qualification Check ===\")\n",
        "print(f\"Age: {age} (Required: {min_age}) - {'Yes' if age_qualified else 'No'}\")\n",
        "print(f\"Income: ${annual_income} (Required: ${min_income}) - {'Yes' if income_qualified else 'No'}\")\n",
        "print(f\"Credit Score: {credit_score} (Required: {min_credit_score}) - {'Yes' if credit_qualified else 'No'}\")\n",
        "print(f\"Has Collateral: {'Yes' if has_collateral else 'No'}\")\n",
        "print(f\"\\nOverall Qualification: {'QUALIFIED' if overall_qualified else 'NOT QUALIFIED'}\")"
      ],
      "metadata": {
        "id": "oYsofhk8k-AK",
        "colab": {
          "base_uri": "https://localhost:8080/"
        },
        "outputId": "4312f33d-6469-4795-e062-184ec034473e"
      },
      "execution_count": null,
      "outputs": [
        {
          "output_type": "stream",
          "name": "stdout",
          "text": [
            "=== Loan Qualification Check ===\n",
            "Age: 25 (Required: 18) - Yes\n",
            "Income: $50000 (Required: $30000) - Yes\n",
            "Credit Score: 720 (Required: 650) - Yes\n",
            "Has Collateral: Yes\n",
            "\n",
            "Overall Qualification: QUALIFIED\n"
          ]
        }
      ]
    },
    {
      "cell_type": "markdown",
      "source": [
        "Data Structures"
      ],
      "metadata": {
        "id": "JAUQNGf3lCxe"
      }
    },
    {
      "cell_type": "markdown",
      "source": [
        "Lists\n",
        "\n",
        "Lists are mutable\n",
        "\n"
      ],
      "metadata": {
        "id": "dnZHScM0lF1S"
      }
    },
    {
      "cell_type": "markdown",
      "source": [
        "Creating lists"
      ],
      "metadata": {
        "id": "1V-Dtj6WlNSu"
      }
    },
    {
      "cell_type": "code",
      "source": [
        "fruits = [\"apple\",\"banana\",\"orange\",\"grape\"]\n",
        "numbers = [10,20,30,40,50]\n",
        "mixed_data = [1,\"Hello\",3.14,True]\n"
      ],
      "metadata": {
        "id": "DpRJj2cSoAn6"
      },
      "execution_count": null,
      "outputs": []
    },
    {
      "cell_type": "markdown",
      "source": [
        "List indexing (0-based)"
      ],
      "metadata": {
        "id": "dRWlB1P3oiSL"
      }
    },
    {
      "cell_type": "code",
      "source": [
        "print(f\"First fruit: {fruits[0]}\")\n",
        "print(f\"Last fruit: {fruits[-1]}\")\n",
        "print(f\"Second to Last: {fruits[-2]}\")"
      ],
      "metadata": {
        "colab": {
          "base_uri": "https://localhost:8080/"
        },
        "id": "gUj8LuGxpEiV",
        "outputId": "7cb68731-cab1-4054-f1e3-3cf25736d979"
      },
      "execution_count": null,
      "outputs": [
        {
          "output_type": "stream",
          "name": "stdout",
          "text": [
            "First fruit: apple\n",
            "Last fruit: grape\n",
            "Second to Last: orange\n"
          ]
        }
      ]
    },
    {
      "cell_type": "markdown",
      "source": [
        "List slicing"
      ],
      "metadata": {
        "id": "Pv3c4J7OsbW6"
      }
    },
    {
      "cell_type": "code",
      "source": [
        "print(f\"First 2 fruits: {fruits[0:2]}\")\n",
        "print(f\"Last 2 fruits: {fruits[-3:]}\")\n",
        "print(f\"All except first: {fruits[1:]}\")"
      ],
      "metadata": {
        "colab": {
          "base_uri": "https://localhost:8080/"
        },
        "id": "AypGp79ys1Kl",
        "outputId": "45d9325e-8fc1-4de0-92c5-aba41233ea1b"
      },
      "execution_count": null,
      "outputs": [
        {
          "output_type": "stream",
          "name": "stdout",
          "text": [
            "First 2 fruits: ['apple', 'banana']\n",
            "Last 2 fruits: ['banana', 'orange', 'grape']\n",
            "All except first: ['banana', 'orange', 'grape']\n"
          ]
        }
      ]
    },
    {
      "cell_type": "markdown",
      "source": [
        "List methods"
      ],
      "metadata": {
        "id": "L8Nv6W7Z2xQI"
      }
    },
    {
      "cell_type": "code",
      "source": [
        "fruits.append(\"kiwi\") # add to end\n",
        "fruits.insert(1,\"strawberry\") # insert at index\n",
        "removed = fruits.pop() # Remove last\n",
        "print(f\"updated list: {fruits}\")\n",
        "print(f\"Removed: {removed}\")"
      ],
      "metadata": {
        "colab": {
          "base_uri": "https://localhost:8080/"
        },
        "id": "7BMY1IX02zdU",
        "outputId": "cefb733f-3ccf-427b-a638-9361f5c26ef0"
      },
      "execution_count": null,
      "outputs": [
        {
          "output_type": "stream",
          "name": "stdout",
          "text": [
            "updated list: ['apple', 'strawberry', 'banana', 'orange', 'grape']\n",
            "Removed: kiwi\n"
          ]
        }
      ]
    },
    {
      "cell_type": "markdown",
      "source": [
        "List opeations"
      ],
      "metadata": {
        "id": "MwpQJbWu3y2N"
      }
    },
    {
      "cell_type": "code",
      "source": [
        "print(f\"Length:{len(fruits)}\")\n",
        "print(f\"Contains 'apple':{'apple' in fruits}\")\n",
        "print(f\"Index of 'banana':{fruits.index('banana')}\")"
      ],
      "metadata": {
        "colab": {
          "base_uri": "https://localhost:8080/"
        },
        "id": "mLqtGbv332cU",
        "outputId": "cc2017a7-e0e6-4e8e-d526-1a3e2be48c86"
      },
      "execution_count": null,
      "outputs": [
        {
          "output_type": "stream",
          "name": "stdout",
          "text": [
            "Length:5\n",
            "Contains 'apple':True\n",
            "Index of 'banana':2\n"
          ]
        }
      ]
    },
    {
      "cell_type": "markdown",
      "source": [
        "Tuples"
      ],
      "metadata": {
        "id": "Weo0mpM8begI"
      }
    },
    {
      "cell_type": "markdown",
      "source": [
        "Tuples are immutable"
      ],
      "metadata": {
        "id": "X_sLWCLBblbe"
      }
    },
    {
      "cell_type": "code",
      "source": [
        "coordinates = (10,20)\n",
        "rgb_color = (225,128,0)\n",
        "person_info = (\"Sindhu\",21,\"Student\",True)"
      ],
      "metadata": {
        "id": "U6HUig5Gb8lN"
      },
      "execution_count": null,
      "outputs": []
    },
    {
      "cell_type": "markdown",
      "source": [
        "Tuple unpacking"
      ],
      "metadata": {
        "id": "ThOH2OLDcpQW"
      }
    },
    {
      "cell_type": "code",
      "source": [
        "x, y = coordinates\n",
        "print(f\"x: {x}, y: {y}\")"
      ],
      "metadata": {
        "colab": {
          "base_uri": "https://localhost:8080/"
        },
        "id": "Rtgz5x2Kcvrm",
        "outputId": "307f1248-ea86-4988-9f5c-73aab6adf413"
      },
      "execution_count": null,
      "outputs": [
        {
          "output_type": "stream",
          "name": "stdout",
          "text": [
            "x: 10, y: 20\n"
          ]
        }
      ]
    },
    {
      "cell_type": "markdown",
      "source": [
        "Tuples methods"
      ],
      "metadata": {
        "id": "24iC7nDEqy8h"
      }
    },
    {
      "cell_type": "code",
      "source": [
        "print(f\"Count of 25: {person_info.count(21)}\")\n",
        "print(f\"Index of 'Student': {person_info.index('Student')}\")"
      ],
      "metadata": {
        "colab": {
          "base_uri": "https://localhost:8080/"
        },
        "id": "bvYHe9gvq2bR",
        "outputId": "202e0fcb-d44a-4c8f-9bf1-00819b84ea24"
      },
      "execution_count": null,
      "outputs": [
        {
          "output_type": "stream",
          "name": "stdout",
          "text": [
            "Count of 25: 1\n",
            "Index of 'Student': 2\n"
          ]
        }
      ]
    },
    {
      "cell_type": "markdown",
      "source": [
        "Why to use tuples?\n",
        "\n",
        "*   Immutable (safe for dictionary keys)\n",
        "*   Slightly faster than lists\n",
        "*   Good for fixed collections\n",
        "\n",
        "\n",
        "\n"
      ],
      "metadata": {
        "id": "LkyDC63IrVph"
      }
    },
    {
      "cell_type": "markdown",
      "source": [
        "Dictionaries"
      ],
      "metadata": {
        "id": "0mfsr09gr8IO"
      }
    },
    {
      "cell_type": "markdown",
      "source": [
        "Creation"
      ],
      "metadata": {
        "id": "z4hugVJlQVzO"
      }
    },
    {
      "cell_type": "code",
      "source": [
        "person = {\n",
        "    \"name\":\"Sindhu\",\n",
        "    \"age\":21,\n",
        "    \"profession\":\"Student\",\n",
        "    \"salary\":75000,\n",
        "    \"skills\": [\"Python\",\"JavaScript\",\"SQL\"]\n",
        "}"
      ],
      "metadata": {
        "id": "jzUv77fCQacG"
      },
      "execution_count": null,
      "outputs": []
    },
    {
      "cell_type": "markdown",
      "source": [
        "Accessing valus"
      ],
      "metadata": {
        "id": "pcG-TZZDQ_Nc"
      }
    },
    {
      "cell_type": "code",
      "source": [
        "print(f\"Name: {person['name']}\")\n",
        "print(f\"Age: {person.get('age', 'Unknown')}\")\n"
      ],
      "metadata": {
        "colab": {
          "base_uri": "https://localhost:8080/"
        },
        "id": "gEiILYE_RFin",
        "outputId": "3084b5b7-b962-4a11-bc38-b11c87399f03"
      },
      "execution_count": null,
      "outputs": [
        {
          "output_type": "stream",
          "name": "stdout",
          "text": [
            "Name: Sindhu\n",
            "Age: 21\n"
          ]
        }
      ]
    },
    {
      "cell_type": "markdown",
      "source": [
        "Dictionary methods"
      ],
      "metadata": {
        "id": "_WSuymLKRcJn"
      }
    },
    {
      "cell_type": "code",
      "source": [
        "print(f\"Keys: {list(person.keys())}\")\n",
        "print(f\"Values: {list(person.values())}\")\n",
        "print(f\"Items: {list(person.items())}\")"
      ],
      "metadata": {
        "colab": {
          "base_uri": "https://localhost:8080/"
        },
        "id": "7CpbYwSuRfw5",
        "outputId": "7e6e7be4-5a6c-4964-c1ac-4d9adfbc9b13"
      },
      "execution_count": null,
      "outputs": [
        {
          "output_type": "stream",
          "name": "stdout",
          "text": [
            "Keys: ['name', 'age', 'profession', 'salary', 'skills']\n",
            "Values: ['Sindhu', 21, 'Student', 75000, ['Python', 'JavaScript', 'SQL']]\n",
            "Items: [('name', 'Sindhu'), ('age', 21), ('profession', 'Student'), ('salary', 75000), ('skills', ['Python', 'JavaScript', 'SQL'])]\n"
          ]
        }
      ]
    },
    {
      "cell_type": "markdown",
      "source": [
        "Adding/Updateing"
      ],
      "metadata": {
        "id": "ZUGhaY-PRrYy"
      }
    },
    {
      "cell_type": "code",
      "source": [
        "person[\"location\"] = \"New York\"\n",
        "person[\"salary\"] = 80000 # updated string"
      ],
      "metadata": {
        "id": "BOoZ133tRy61"
      },
      "execution_count": null,
      "outputs": []
    },
    {
      "cell_type": "markdown",
      "source": [
        "Practical use case: inventory management"
      ],
      "metadata": {
        "id": "oycmJBdxSGzf"
      }
    },
    {
      "cell_type": "code",
      "source": [
        "inventory = {\n",
        "    \"laptops\": {\"quantity\": 50, \"price\": 999.99},\n",
        "    \"phones\": {\"quantity\": 100, \"price\": 599.99},\n",
        "    \"tablets\": {\"quantity\": 30, \"price\": 399.99}\n",
        "}"
      ],
      "metadata": {
        "id": "XFcxIb7BSRSq"
      },
      "execution_count": null,
      "outputs": []
    },
    {
      "cell_type": "markdown",
      "source": [
        "Nested access"
      ],
      "metadata": {
        "id": "93Fwl40OS6EF"
      }
    },
    {
      "cell_type": "code",
      "source": [
        "print(f\"laptops price: ${inventory['laptops']['quantity']}\")"
      ],
      "metadata": {
        "colab": {
          "base_uri": "https://localhost:8080/"
        },
        "id": "e8YbRjm-S83C",
        "outputId": "12cf206b-e693-4c24-fe03-f661765f0988"
      },
      "execution_count": null,
      "outputs": [
        {
          "output_type": "stream",
          "name": "stdout",
          "text": [
            "laptops price: $50\n"
          ]
        }
      ]
    },
    {
      "cell_type": "markdown",
      "source": [
        "Sets"
      ],
      "metadata": {
        "id": "jv4OMhE7Tbve"
      }
    },
    {
      "cell_type": "markdown",
      "source": [
        "sets contains unique value"
      ],
      "metadata": {
        "id": "U6G9XlM9TdAE"
      }
    },
    {
      "cell_type": "code",
      "source": [
        "colors = {\"red\",\"green\",\"blue\",\"red\"} # duplicate removed\n",
        "print(f\"Colors: {colors}\")"
      ],
      "metadata": {
        "colab": {
          "base_uri": "https://localhost:8080/"
        },
        "id": "7yQWFpjoTiKb",
        "outputId": "a0909e6e-b7f9-416d-cbdc-7cbd1c63a303"
      },
      "execution_count": null,
      "outputs": [
        {
          "output_type": "stream",
          "name": "stdout",
          "text": [
            "Colors: {'blue', 'red', 'green'}\n"
          ]
        }
      ]
    },
    {
      "cell_type": "markdown",
      "source": [
        "set operations"
      ],
      "metadata": {
        "id": "Vs3Wqy6FVnEH"
      }
    },
    {
      "cell_type": "code",
      "source": [
        "team1_skills = {\"Python\", \"JavaScript\",\"SQL\",\"React\"}\n",
        "team2_skills = {\"JavaScript\", \"SQL\", \"Java\", \"Spring\"}"
      ],
      "metadata": {
        "id": "I6ydOl3IVpGa"
      },
      "execution_count": null,
      "outputs": []
    },
    {
      "cell_type": "markdown",
      "source": [
        "common operations"
      ],
      "metadata": {
        "id": "XpMQppqcWFcX"
      }
    },
    {
      "cell_type": "code",
      "source": [
        "print(f\"Common skills: {team1_skills.intersection(team2_skills)}\")\n",
        "print(f\"All skills: {team1_skills.union(team2_skills)}\")\n",
        "print(f\"Team 1 only: {team1_skills.difference(team2_skills)}\")"
      ],
      "metadata": {
        "colab": {
          "base_uri": "https://localhost:8080/"
        },
        "id": "W6WhJn-gWH-L",
        "outputId": "32fa5410-e813-46dc-aab5-fcd2bdc55f06"
      },
      "execution_count": null,
      "outputs": [
        {
          "output_type": "stream",
          "name": "stdout",
          "text": [
            "Common skills: {'SQL', 'JavaScript'}\n",
            "All skills: {'Spring', 'SQL', 'Java', 'Python', 'JavaScript', 'React'}\n",
            "Team 1 only: {'Python', 'React'}\n"
          ]
        }
      ]
    },
    {
      "cell_type": "markdown",
      "source": [
        "Adding to sets"
      ],
      "metadata": {
        "id": "kpPzluMyWYCt"
      }
    },
    {
      "cell_type": "code",
      "source": [
        "colors.add(\"yellow\")\n",
        "colors.update([\"purple\",\"orange\"])\n",
        "print(f\"Updated colors: {colors}\")"
      ],
      "metadata": {
        "colab": {
          "base_uri": "https://localhost:8080/"
        },
        "id": "HNq-an1cWatY",
        "outputId": "eee6dd02-c368-4aff-d752-6f72edb2db48"
      },
      "execution_count": null,
      "outputs": [
        {
          "output_type": "stream",
          "name": "stdout",
          "text": [
            "Updated colors: {'blue', 'red', 'orange', 'green', 'yellow', 'purple'}\n"
          ]
        }
      ]
    },
    {
      "cell_type": "markdown",
      "source": [
        "Control Flow"
      ],
      "metadata": {
        "id": "8xt-NqZpW3H8"
      }
    },
    {
      "cell_type": "markdown",
      "source": [
        "Conditional statements"
      ],
      "metadata": {
        "id": "M-tmYQfTW6t0"
      }
    },
    {
      "cell_type": "markdown",
      "source": [
        "if-else"
      ],
      "metadata": {
        "id": "8lTRo0HSXAbc"
      }
    },
    {
      "cell_type": "code",
      "source": [
        "def get_grade_letter(score):\n",
        "  if score >= 90:\n",
        "    return \"A\"\n",
        "  elif score >= 80:\n",
        "    return \"B\"\n",
        "  elif score >= 70:\n",
        "    return \"C\"\n",
        "  elif score >= 60:\n",
        "    return \"D\"\n",
        "  else:\n",
        "    return \"F\""
      ],
      "metadata": {
        "id": "ZDWTYJhLXC2D"
      },
      "execution_count": null,
      "outputs": []
    },
    {
      "cell_type": "markdown",
      "source": [
        "Test the funtion"
      ],
      "metadata": {
        "id": "DvFo0hIMXV-6"
      }
    },
    {
      "cell_type": "code",
      "source": [
        "test_scores = [25,60,98,12,95,72]\n",
        "for score in test_scores:\n",
        "  grade = get_grade_letter(score)\n",
        "  print(f\"Score: {score} Grade: {grade}\")"
      ],
      "metadata": {
        "colab": {
          "base_uri": "https://localhost:8080/"
        },
        "id": "2jFti-pMXYHX",
        "outputId": "45ddedf9-5827-46f2-e840-6055771fae26"
      },
      "execution_count": null,
      "outputs": [
        {
          "output_type": "stream",
          "name": "stdout",
          "text": [
            "Score: 25 Grade: F\n",
            "Score: 60 Grade: D\n",
            "Score: 98 Grade: A\n",
            "Score: 12 Grade: F\n",
            "Score: 95 Grade: A\n",
            "Score: 72 Grade: C\n"
          ]
        }
      ]
    },
    {
      "cell_type": "markdown",
      "source": [
        "Nested conditions"
      ],
      "metadata": {
        "id": "336nJVNBXyWa"
      }
    },
    {
      "cell_type": "code",
      "source": [
        "def get_shipping_cost(weight, distance):\n",
        "  base_cost = 5.0\n",
        "\n",
        "  if weight <= 1:\n",
        "    weight_cost = 2.0\n",
        "  elif weight <= 5:\n",
        "    weight_cost = 5.0\n",
        "  else:\n",
        "    weight_cost = 10.0\n",
        "\n",
        "  if distance <= 100:\n",
        "    distance_cost = 1.0\n",
        "  elif distance <= 500:\n",
        "    distance_cost = 3.0\n",
        "  else:\n",
        "    distance_cost = 7.0\n",
        "  return base_cost + weight_cost + distance_cost"
      ],
      "metadata": {
        "id": "o-4vUchcX0vW"
      },
      "execution_count": null,
      "outputs": []
    },
    {
      "cell_type": "markdown",
      "source": [
        "Test shipping costs"
      ],
      "metadata": {
        "id": "BoA_HKvqZYYi"
      }
    },
    {
      "cell_type": "code",
      "source": [
        "print(f\"Light, close: ${get_shipping_cost(0.5,50)}\")\n",
        "print(f\"Heavy, far: ${get_shipping_cost(10,800)}\")"
      ],
      "metadata": {
        "colab": {
          "base_uri": "https://localhost:8080/"
        },
        "id": "qx0ktRf2Zb8N",
        "outputId": "abae8cb3-0e94-4615-94b8-de582cc227fe"
      },
      "execution_count": null,
      "outputs": [
        {
          "output_type": "stream",
          "name": "stdout",
          "text": [
            "Light, close: $8.0\n",
            "Heavy, far: $22.0\n"
          ]
        }
      ]
    },
    {
      "cell_type": "markdown",
      "source": [
        "Loops"
      ],
      "metadata": {
        "id": "kp2mCUgJZsuB"
      }
    },
    {
      "cell_type": "markdown",
      "source": [
        "For loop"
      ],
      "metadata": {
        "id": "kIsF4SU3Zuh0"
      }
    },
    {
      "cell_type": "code",
      "source": [
        "fruits = [\"apple\",\"banana\",\"orange\",\"grape\"]\n",
        "for fruit in fruits:\n",
        "  print(f\"I like {fruit}\")"
      ],
      "metadata": {
        "colab": {
          "base_uri": "https://localhost:8080/"
        },
        "id": "64Eqi_R_Zw-7",
        "outputId": "b4c58b7d-c9e1-4e82-8a4a-341a8a2ba93e"
      },
      "execution_count": null,
      "outputs": [
        {
          "output_type": "stream",
          "name": "stdout",
          "text": [
            "I like apple\n",
            "I like banana\n",
            "I like orange\n",
            "I like grape\n"
          ]
        }
      ]
    },
    {
      "cell_type": "markdown",
      "source": [
        "Loop with enumerate (get index)"
      ],
      "metadata": {
        "id": "E5_8sAyxZ4JI"
      }
    },
    {
      "cell_type": "code",
      "source": [
        "for i, fruit in enumerate(fruits):\n",
        "  print(f\"{i+1}. {fruit}\")"
      ],
      "metadata": {
        "colab": {
          "base_uri": "https://localhost:8080/"
        },
        "id": "EEps4IvsZ-Ab",
        "outputId": "44ea70f7-b6e3-49bc-b9ea-3cf583e83767"
      },
      "execution_count": null,
      "outputs": [
        {
          "output_type": "stream",
          "name": "stdout",
          "text": [
            "1. apple\n",
            "2. banana\n",
            "3. orange\n",
            "4. grape\n"
          ]
        }
      ]
    },
    {
      "cell_type": "markdown",
      "source": [
        "Loop with range"
      ],
      "metadata": {
        "id": "w4LyQPTAaGK2"
      }
    },
    {
      "cell_type": "code",
      "source": [
        "for day in range(1,8):\n",
        "  print(f\"Day {day} of the week\")"
      ],
      "metadata": {
        "colab": {
          "base_uri": "https://localhost:8080/"
        },
        "id": "1nPK-FVIaJAn",
        "outputId": "2c51a800-d403-4e0d-e6f8-e3ec7c40050c"
      },
      "execution_count": null,
      "outputs": [
        {
          "output_type": "stream",
          "name": "stdout",
          "text": [
            "Day 1 of the week\n",
            "Day 2 of the week\n",
            "Day 3 of the week\n",
            "Day 4 of the week\n",
            "Day 5 of the week\n",
            "Day 6 of the week\n",
            "Day 7 of the week\n"
          ]
        }
      ]
    },
    {
      "cell_type": "markdown",
      "source": [
        "Nested loops"
      ],
      "metadata": {
        "id": "C780JlGTaUYh"
      }
    },
    {
      "cell_type": "markdown",
      "source": [
        "creating a multiplication table"
      ],
      "metadata": {
        "id": "Dk3j1GHUaYXX"
      }
    },
    {
      "cell_type": "code",
      "source": [
        "print(\"multiplication table\")\n",
        "for i in range(1,6):\n",
        "  for j in range(1,11):\n",
        "    product = i*j\n",
        "    print(f\"{i} x {j} = {product:2d}\", end=\" \")\n",
        "    print() #New line after each row"
      ],
      "metadata": {
        "colab": {
          "base_uri": "https://localhost:8080/"
        },
        "id": "96K7KhDBacgu",
        "outputId": "e5e0d88a-9255-42ee-88a4-b0da51fdc341"
      },
      "execution_count": null,
      "outputs": [
        {
          "output_type": "stream",
          "name": "stdout",
          "text": [
            "multiplication table\n",
            "1 x 1 =  1 \n",
            "1 x 2 =  2 \n",
            "1 x 3 =  3 \n",
            "1 x 4 =  4 \n",
            "1 x 5 =  5 \n",
            "1 x 6 =  6 \n",
            "1 x 7 =  7 \n",
            "1 x 8 =  8 \n",
            "1 x 9 =  9 \n",
            "1 x 10 = 10 \n",
            "2 x 1 =  2 \n",
            "2 x 2 =  4 \n",
            "2 x 3 =  6 \n",
            "2 x 4 =  8 \n",
            "2 x 5 = 10 \n",
            "2 x 6 = 12 \n",
            "2 x 7 = 14 \n",
            "2 x 8 = 16 \n",
            "2 x 9 = 18 \n",
            "2 x 10 = 20 \n",
            "3 x 1 =  3 \n",
            "3 x 2 =  6 \n",
            "3 x 3 =  9 \n",
            "3 x 4 = 12 \n",
            "3 x 5 = 15 \n",
            "3 x 6 = 18 \n",
            "3 x 7 = 21 \n",
            "3 x 8 = 24 \n",
            "3 x 9 = 27 \n",
            "3 x 10 = 30 \n",
            "4 x 1 =  4 \n",
            "4 x 2 =  8 \n",
            "4 x 3 = 12 \n",
            "4 x 4 = 16 \n",
            "4 x 5 = 20 \n",
            "4 x 6 = 24 \n",
            "4 x 7 = 28 \n",
            "4 x 8 = 32 \n",
            "4 x 9 = 36 \n",
            "4 x 10 = 40 \n",
            "5 x 1 =  5 \n",
            "5 x 2 = 10 \n",
            "5 x 3 = 15 \n",
            "5 x 4 = 20 \n",
            "5 x 5 = 25 \n",
            "5 x 6 = 30 \n",
            "5 x 7 = 35 \n",
            "5 x 8 = 40 \n",
            "5 x 9 = 45 \n",
            "5 x 10 = 50 \n"
          ]
        }
      ]
    },
    {
      "cell_type": "markdown",
      "source": [
        "processing data with loops"
      ],
      "metadata": {
        "id": "E04hRX5sbL08"
      }
    },
    {
      "cell_type": "code",
      "source": [
        "sales_data = [\n",
        "    {\"product\": \"Laptop\",\"price\":50,\"quantity\":5},\n",
        "    {\"product\": \"Phone\",\"price\":100,\"quantity\":10},\n",
        "    {\"product\": \"Tablet\",\"price\":10,\"quantity\":8}\n",
        "]\n",
        "\n",
        "total_revenue = 0\n",
        "\n",
        "for item in sales_data:\n",
        "  item_revenue = item[\"price\"] * item[\"quantity\"]\n",
        "  total_revenue += item_revenue\n",
        "  print(f\"{item['product']}: ${item_revenue}\")\n",
        "print(f\"Total Revenue: ${total_revenue}\")"
      ],
      "metadata": {
        "colab": {
          "base_uri": "https://localhost:8080/"
        },
        "id": "AYVGr4iabQve",
        "outputId": "ad7a25aa-ef01-479b-cac3-101c10b9837a"
      },
      "execution_count": null,
      "outputs": [
        {
          "output_type": "stream",
          "name": "stdout",
          "text": [
            "Laptop: $250\n",
            "Phone: $1000\n",
            "Tablet: $80\n",
            "Total Revenue: $1330\n"
          ]
        }
      ]
    },
    {
      "cell_type": "markdown",
      "source": [
        "loops - while loop"
      ],
      "metadata": {
        "id": "08QRuYOccZDo"
      }
    },
    {
      "cell_type": "markdown",
      "source": [
        "while loop for user input simulation"
      ],
      "metadata": {
        "id": "bg90p-bJcchf"
      }
    },
    {
      "cell_type": "code",
      "source": [
        "def simple_guessin_game():\n",
        "  target = 7\n",
        "  guess = 0\n",
        "  attempts = 0\n",
        "  print(\"guess the number b/w 1 and 10\")\n",
        "  while guess != target:\n",
        "    # simulate user input\n",
        "    import random\n",
        "    guess = random.randint(1,10)\n",
        "    attempts += 1\n",
        "\n",
        "    if guess < target:\n",
        "      print(f\"guess {attempts}: {guess} - too low!\")\n",
        "    elif guess > target:\n",
        "      print(f\"guess {attempts}: {guess} - too high\")\n",
        "    else:\n",
        "      print(f\"guess {attempts}: {guess} - correct\")\n",
        "\n",
        "    # safety check\n",
        "    if attempts > 10:\n",
        "      print(\"maximum attempts reached\")\n",
        "      break\n",
        "  print(f\"game finised in {attempts} attempts\")\n",
        "simple_guessin_game()\n"
      ],
      "metadata": {
        "colab": {
          "base_uri": "https://localhost:8080/"
        },
        "id": "CeaO9OASchqR",
        "outputId": "49bb9fdb-2cc9-4b93-dac9-672460298fed"
      },
      "execution_count": null,
      "outputs": [
        {
          "output_type": "stream",
          "name": "stdout",
          "text": [
            "guess the number b/w 1 and 10\n",
            "guess 1: 10 - too high\n",
            "guess 2: 9 - too high\n",
            "guess 3: 2 - too low!\n",
            "guess 4: 5 - too low!\n",
            "guess 5: 7 - correct\n",
            "game finised in 5 attempts\n"
          ]
        }
      ]
    },
    {
      "cell_type": "markdown",
      "source": [
        "while loop for processing"
      ],
      "metadata": {
        "id": "2jrNX-SIepoW"
      }
    },
    {
      "cell_type": "code",
      "source": [
        "def process_queue():\n",
        "  queue = [\"Task 1\", \"Task 2\",\"Task 3\",\"Task 4\"]\n",
        "  while queue:\n",
        "    current_task = queue.pop(0)\n",
        "    print(f\"Processing: {current_task}\")\n",
        "    print(f\"remaining tasks: {len(queue)}\")\n",
        "  print(\"all tasks completed\")\n",
        "process_queue()"
      ],
      "metadata": {
        "colab": {
          "base_uri": "https://localhost:8080/"
        },
        "id": "00FePjgGeuCQ",
        "outputId": "d3d40b56-aaf5-4118-eeb2-999c63c8fe13"
      },
      "execution_count": null,
      "outputs": [
        {
          "output_type": "stream",
          "name": "stdout",
          "text": [
            "Processing: Task 1\n",
            "remaining tasks: 3\n",
            "Processing: Task 2\n",
            "remaining tasks: 2\n",
            "Processing: Task 3\n",
            "remaining tasks: 1\n",
            "Processing: Task 4\n",
            "remaining tasks: 0\n",
            "all tasks completed\n"
          ]
        }
      ]
    },
    {
      "cell_type": "markdown",
      "source": [
        "**Funtions**"
      ],
      "metadata": {
        "id": "j31KoEEOf2z2"
      }
    },
    {
      "cell_type": "markdown",
      "source": [
        "Basic function definition"
      ],
      "metadata": {
        "id": "0xH7mE28f8J3"
      }
    },
    {
      "cell_type": "code",
      "source": [
        "def greet(name):\n",
        "  return f\"hello, {name}\""
      ],
      "metadata": {
        "id": "2iDIHOmygENu"
      },
      "execution_count": null,
      "outputs": []
    },
    {
      "cell_type": "markdown",
      "source": [
        "function call"
      ],
      "metadata": {
        "id": "nVMl4kyFgPIe"
      }
    },
    {
      "cell_type": "code",
      "source": [
        "message = greet(\"Sindhu\")\n",
        "print(message)"
      ],
      "metadata": {
        "colab": {
          "base_uri": "https://localhost:8080/"
        },
        "id": "ufQn-4OLgRzL",
        "outputId": "ca9ce87f-d87b-4590-ff7a-4bb0d9160975"
      },
      "execution_count": null,
      "outputs": [
        {
          "output_type": "stream",
          "name": "stdout",
          "text": [
            "hello, Sindhu\n"
          ]
        }
      ]
    },
    {
      "cell_type": "markdown",
      "source": [
        "function with multiple parameters"
      ],
      "metadata": {
        "id": "RYvL7ZeSgfU_"
      }
    },
    {
      "cell_type": "code",
      "source": [
        "def calculate_area(length, width):\n",
        "  area = length * width\n",
        "  return area"
      ],
      "metadata": {
        "id": "GfVIzZU5glF4"
      },
      "execution_count": null,
      "outputs": []
    },
    {
      "cell_type": "markdown",
      "source": [
        "test the function"
      ],
      "metadata": {
        "id": "OXDLHXAvg1bB"
      }
    },
    {
      "cell_type": "code",
      "source": [
        "room_area = calculate_area(10,10)\n",
        "print(f\"Room area: {room_area} square feet\")"
      ],
      "metadata": {
        "colab": {
          "base_uri": "https://localhost:8080/"
        },
        "id": "-nqEFlazg5da",
        "outputId": "49c744b9-d35d-4bcd-e73b-7d1b03b47385"
      },
      "execution_count": null,
      "outputs": [
        {
          "output_type": "stream",
          "name": "stdout",
          "text": [
            "Room area: 100 square feet\n"
          ]
        }
      ]
    },
    {
      "cell_type": "markdown",
      "source": [
        "function with default parameters"
      ],
      "metadata": {
        "id": "TTNWtZEzjD4L"
      }
    },
    {
      "cell_type": "code",
      "source": [
        "def create_user_profile(name,age=18,location=\"Unknown\",active=True):\n",
        "  return {\n",
        "      \"name\": name,\n",
        "      \"age\": age,\n",
        "      \"location\": location,\n",
        "      \"active\": active\n",
        "  }\n"
      ],
      "metadata": {
        "id": "Y4A1xJ_uspUe"
      },
      "execution_count": null,
      "outputs": []
    },
    {
      "cell_type": "markdown",
      "source": [
        "different ways to call"
      ],
      "metadata": {
        "id": "dkP_a50HtRQv"
      }
    },
    {
      "cell_type": "code",
      "source": [],
      "metadata": {
        "id": "eNR2llmYtVJh"
      },
      "execution_count": null,
      "outputs": []
    },
    {
      "cell_type": "markdown",
      "source": [
        "Advanced Functions Concepts"
      ],
      "metadata": {
        "id": "r1vN7oFxtXhD"
      }
    },
    {
      "cell_type": "markdown",
      "source": [
        "function returning multiple values"
      ],
      "metadata": {
        "id": "Z2TCaVKctgnz"
      }
    },
    {
      "cell_type": "code",
      "source": [
        "def analyze_text(text):\n",
        "  words = text.split()\n",
        "  word_count = len(words)\n",
        "  char_count = len(text)\n",
        "  char_count_no_spaces = len(text.replace(\" \",\"\"))\n",
        "  return word_count, char_count, char_count_no_spaces"
      ],
      "metadata": {
        "id": "e9hWwevptmzj"
      },
      "execution_count": null,
      "outputs": []
    },
    {
      "cell_type": "markdown",
      "source": [
        "Test with sample text"
      ],
      "metadata": {
        "id": "p2YHpiIuuGM-"
      }
    },
    {
      "cell_type": "code",
      "source": [
        "sample_text = \"Python is a powerful programming language\"\n",
        "words,chars,chars_no_space = analyze_text(sample_text)\n",
        "print(f\"Text: {sample_text}\")\n",
        "print(f\"Word count: {words}\")\n",
        "print(f\"Character count: {chars}\")\n",
        "print(f\"Characters (no spaces): {chars_no_space}\")"
      ],
      "metadata": {
        "colab": {
          "base_uri": "https://localhost:8080/"
        },
        "id": "pLgXCodduJXI",
        "outputId": "5b4ab815-d678-4895-9b6f-eefe7e24bde1"
      },
      "execution_count": null,
      "outputs": [
        {
          "output_type": "stream",
          "name": "stdout",
          "text": [
            "Text: Python is a powerful programming language\n",
            "Word count: 6\n",
            "Character count: 41\n",
            "Characters (no spaces): 36\n"
          ]
        }
      ]
    },
    {
      "cell_type": "markdown",
      "source": [
        "Variable length arguments"
      ],
      "metadata": {
        "id": "K8xN9ny_vD-W"
      }
    },
    {
      "cell_type": "code",
      "source": [
        "def calculate_average(*numbers):\n",
        "  if not numbers:\n",
        "    return 0\n",
        "    return sum(numbers)/len(numbers)"
      ],
      "metadata": {
        "id": "5HxITaZVvJpr"
      },
      "execution_count": null,
      "outputs": []
    },
    {
      "cell_type": "markdown",
      "source": [
        "Test with different numbers of arguments"
      ],
      "metadata": {
        "id": "EqAD165OviKI"
      }
    },
    {
      "cell_type": "code",
      "source": [
        "avg1 = calculate_average(10,20,30)\n",
        "avg2 = calculate_average(5,15,25,35,45)\n",
        "avg3 = calculate_average(100)\n",
        "print(f\"Average 1: {avg1}\")\n",
        "print(f\"Average 2: {avg2}\")\n",
        "print(f\"Average 3: {avg3}\")"
      ],
      "metadata": {
        "colab": {
          "base_uri": "https://localhost:8080/"
        },
        "id": "ZT_JHqHfvuDE",
        "outputId": "25febf40-9e8d-41d8-ee50-1bb395606ea6"
      },
      "execution_count": null,
      "outputs": [
        {
          "output_type": "stream",
          "name": "stdout",
          "text": [
            "Average 1: None\n",
            "Average 2: None\n",
            "Average 3: None\n"
          ]
        }
      ]
    },
    {
      "cell_type": "markdown",
      "source": [
        "Keyword arguments\n"
      ],
      "metadata": {
        "id": "KegXJfyYwskz"
      }
    },
    {
      "cell_type": "code",
      "source": [],
      "metadata": {
        "id": "seplVpaqwv-S"
      },
      "execution_count": null,
      "outputs": []
    }
  ]
}